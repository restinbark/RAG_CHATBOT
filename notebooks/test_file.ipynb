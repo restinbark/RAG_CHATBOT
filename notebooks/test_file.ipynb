{
 "cells": [
  {
   "cell_type": "code",
   "execution_count": 10,
   "id": "1acaaf61",
   "metadata": {},
   "outputs": [
    {
     "name": "stderr",
     "output_type": "stream",
     "text": [
      "Device set to use cpu\n"
     ]
    },
    {
     "name": "stdout",
     "output_type": "stream",
     "text": [
      "🔎 Answer:\n",
      " they lose tons of business from good paying customers who pay their bills on time this also hurts the stores because they lose tons of business from good paying customers who pay their bills in purchases in the next statement this is a huge bookkeeping mistake because its neither purchase or return a bellyflop disputes about no customer service in span of two years or more slow response no response or inability to problem solve as problem arises this is why same disputes are still to allow payments to be made online after xxxx days they clearly want to make things difficult for their customers and increase the likelihood of late fee revenue by forcing payments to be made through slow and inconvenient methods for no reasons other than truist s animosity and greed\n",
      "\n",
      "📚 Sources:\n",
      "1. would make it right for their customer that always pay more than due and early...\n",
      "2. and then abruptly closing consumers accounts who have been great customers paying their bills on time this also hurts th...\n",
      "3. in purchases in the next statement this is a huge bookkeeping mistake because its neither purchase or return a bellyflop...\n",
      "4. to allow payments to be made online after xxxx days they clearly want to make things difficult for their customers and i...\n",
      "5. care about the consumer one bit they are happy collecting late charges without providing the consumer due process to rec...\n"
     ]
    }
   ],
   "source": [
    "import sys\n",
    "sys.path.append('../')\n",
    "\n",
    "from src.rag_pipeline import ask_question\n",
    "\n",
    "# Question to ask the chatbot\n",
    "question = \"Why are customers unhappy with Buy Now, Pay Later?\"\n",
    "\n",
    "# Set correct path from inside notebooks/\n",
    "index_path = \"../vector_store/faiss_index\"\n",
    "\n",
    "# Ask your chatbot\n",
    "answer, sources = ask_question(question, index_path=index_path)\n",
    "\n",
    "# Display answer and retrieved chunks\n",
    "print(\"🔎 Answer:\\n\", answer)\n",
    "print(\"\\n📚 Sources:\")\n",
    "for i, s in enumerate(sources, 1):\n",
    "    print(f\"{i}. {s[:120]}...\")\n"
   ]
  }
 ],
 "metadata": {
  "language_info": {
   "name": "python"
  }
 },
 "nbformat": 4,
 "nbformat_minor": 5
}
